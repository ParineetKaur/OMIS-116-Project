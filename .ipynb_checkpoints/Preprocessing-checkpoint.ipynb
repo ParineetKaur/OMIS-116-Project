{
 "cells": [
  {
   "cell_type": "code",
   "execution_count": 8,
   "metadata": {},
   "outputs": [],
   "source": [
    "# Important Libraries for Data Analysis \n",
    "import numpy as np\n",
    "import pandas as pd\n",
    "import matplotlib.pyplot as plt\n",
    "import seaborn as sns"
   ]
  },
  {
   "cell_type": "code",
   "execution_count": 17,
   "metadata": {},
   "outputs": [],
   "source": [
    "# Loading all the datasets\n",
    "rainfall_df = pd.read_csv('rainfall.csv')\n",
    "temp_df = pd.read_csv('temp.csv')\n",
    "pest_df = pd.read_csv('pesticides.csv')\n",
    "yield_df = pd.read_csv('yield.csv')"
   ]
  },
  {
   "cell_type": "code",
   "execution_count": 18,
   "metadata": {},
   "outputs": [
    {
     "name": "stdout",
     "output_type": "stream",
     "text": [
      "Yield Data:\n",
      "  Domain Code Domain  Area Code         Area  Element Code Element  Item Code  \\\n",
      "0          QC  Crops          2  Afghanistan          5419   Yield         56   \n",
      "1          QC  Crops          2  Afghanistan          5419   Yield         56   \n",
      "2          QC  Crops          2  Afghanistan          5419   Yield         56   \n",
      "3          QC  Crops          2  Afghanistan          5419   Yield         56   \n",
      "4          QC  Crops          2  Afghanistan          5419   Yield         56   \n",
      "\n",
      "    Item  Year Code  Year   Unit  Value  \n",
      "0  Maize       1961  1961  hg/ha  14000  \n",
      "1  Maize       1962  1962  hg/ha  14000  \n",
      "2  Maize       1963  1963  hg/ha  14260  \n",
      "3  Maize       1964  1964  hg/ha  14257  \n",
      "4  Maize       1965  1965  hg/ha  14400  \n",
      "\n",
      "Temperature Data:\n",
      "   year        country  avg_temp\n",
      "0  1849  Côte D'Ivoire     25.58\n",
      "1  1850  Côte D'Ivoire     25.52\n",
      "2  1851  Côte D'Ivoire     25.67\n",
      "3  1852  Côte D'Ivoire       NaN\n",
      "4  1853  Côte D'Ivoire       NaN\n",
      "\n",
      "Rainfall Data:\n",
      "   year        country  avg_temp\n",
      "0  1849  Côte D'Ivoire     25.58\n",
      "1  1850  Côte D'Ivoire     25.52\n",
      "2  1851  Côte D'Ivoire     25.67\n",
      "3  1852  Côte D'Ivoire       NaN\n",
      "4  1853  Côte D'Ivoire       NaN\n",
      "\n",
      "Pesticides Data:\n",
      "           Domain     Area Element                Item  Year  \\\n",
      "0  Pesticides Use  Albania     Use  Pesticides (total)  1990   \n",
      "1  Pesticides Use  Albania     Use  Pesticides (total)  1991   \n",
      "2  Pesticides Use  Albania     Use  Pesticides (total)  1992   \n",
      "3  Pesticides Use  Albania     Use  Pesticides (total)  1993   \n",
      "4  Pesticides Use  Albania     Use  Pesticides (total)  1994   \n",
      "\n",
      "                           Unit  Value  \n",
      "0  tonnes of active ingredients  121.0  \n",
      "1  tonnes of active ingredients  121.0  \n",
      "2  tonnes of active ingredients  121.0  \n",
      "3  tonnes of active ingredients  121.0  \n",
      "4  tonnes of active ingredients  201.0  \n"
     ]
    }
   ],
   "source": [
    "# Preview of the first few rows of each dataset to understand their structure\n",
    "print(\"Yield Data:\")\n",
    "print(yield_df.head())\n",
    "\n",
    "print(\"\\nTemperature Data:\")\n",
    "print(temp_df.head())\n",
    "\n",
    "print(\"\\nRainfall Data:\")\n",
    "print(rain_df.head())\n",
    "\n",
    "print(\"\\nPesticides Data:\")\n",
    "print(pest_df.head())"
   ]
  },
  {
   "cell_type": "markdown",
   "id": "5570d13d",
   "metadata": {},
   "source": [
    "##### 1. Yield Data"
   ]
  },
  {
   "cell_type": "code",
   "execution_count": 11,
   "metadata": {},
   "outputs": [
    {
     "data": {
      "text/html": [
       "<div>\n",
       "<style scoped>\n",
       "    .dataframe tbody tr th:only-of-type {\n",
       "        vertical-align: middle;\n",
       "    }\n",
       "\n",
       "    .dataframe tbody tr th {\n",
       "        vertical-align: top;\n",
       "    }\n",
       "\n",
       "    .dataframe thead th {\n",
       "        text-align: right;\n",
       "    }\n",
       "</style>\n",
       "<table border=\"1\" class=\"dataframe\">\n",
       "  <thead>\n",
       "    <tr style=\"text-align: right;\">\n",
       "      <th></th>\n",
       "      <th>Area Code</th>\n",
       "      <th>Element Code</th>\n",
       "      <th>Item Code</th>\n",
       "      <th>Year Code</th>\n",
       "      <th>Year</th>\n",
       "      <th>Value</th>\n",
       "    </tr>\n",
       "  </thead>\n",
       "  <tbody>\n",
       "    <tr>\n",
       "      <th>count</th>\n",
       "      <td>56717.000000</td>\n",
       "      <td>56717.0</td>\n",
       "      <td>56717.000000</td>\n",
       "      <td>56717.000000</td>\n",
       "      <td>56717.000000</td>\n",
       "      <td>56717.000000</td>\n",
       "    </tr>\n",
       "    <tr>\n",
       "      <th>mean</th>\n",
       "      <td>125.650422</td>\n",
       "      <td>5419.0</td>\n",
       "      <td>111.611651</td>\n",
       "      <td>1989.669570</td>\n",
       "      <td>1989.669570</td>\n",
       "      <td>62094.660084</td>\n",
       "    </tr>\n",
       "    <tr>\n",
       "      <th>std</th>\n",
       "      <td>75.120195</td>\n",
       "      <td>0.0</td>\n",
       "      <td>101.278435</td>\n",
       "      <td>16.133198</td>\n",
       "      <td>16.133198</td>\n",
       "      <td>67835.932856</td>\n",
       "    </tr>\n",
       "    <tr>\n",
       "      <th>min</th>\n",
       "      <td>1.000000</td>\n",
       "      <td>5419.0</td>\n",
       "      <td>15.000000</td>\n",
       "      <td>1961.000000</td>\n",
       "      <td>1961.000000</td>\n",
       "      <td>0.000000</td>\n",
       "    </tr>\n",
       "    <tr>\n",
       "      <th>25%</th>\n",
       "      <td>58.000000</td>\n",
       "      <td>5419.0</td>\n",
       "      <td>56.000000</td>\n",
       "      <td>1976.000000</td>\n",
       "      <td>1976.000000</td>\n",
       "      <td>15680.000000</td>\n",
       "    </tr>\n",
       "    <tr>\n",
       "      <th>50%</th>\n",
       "      <td>122.000000</td>\n",
       "      <td>5419.0</td>\n",
       "      <td>116.000000</td>\n",
       "      <td>1991.000000</td>\n",
       "      <td>1991.000000</td>\n",
       "      <td>36744.000000</td>\n",
       "    </tr>\n",
       "    <tr>\n",
       "      <th>75%</th>\n",
       "      <td>184.000000</td>\n",
       "      <td>5419.0</td>\n",
       "      <td>125.000000</td>\n",
       "      <td>2004.000000</td>\n",
       "      <td>2004.000000</td>\n",
       "      <td>86213.000000</td>\n",
       "    </tr>\n",
       "    <tr>\n",
       "      <th>max</th>\n",
       "      <td>351.000000</td>\n",
       "      <td>5419.0</td>\n",
       "      <td>489.000000</td>\n",
       "      <td>2016.000000</td>\n",
       "      <td>2016.000000</td>\n",
       "      <td>1000000.000000</td>\n",
       "    </tr>\n",
       "  </tbody>\n",
       "</table>\n",
       "</div>"
      ],
      "text/plain": [
       "          Area Code  Element Code     Item Code     Year Code          Year  \\\n",
       "count  56717.000000       56717.0  56717.000000  56717.000000  56717.000000   \n",
       "mean     125.650422        5419.0    111.611651   1989.669570   1989.669570   \n",
       "std       75.120195           0.0    101.278435     16.133198     16.133198   \n",
       "min        1.000000        5419.0     15.000000   1961.000000   1961.000000   \n",
       "25%       58.000000        5419.0     56.000000   1976.000000   1976.000000   \n",
       "50%      122.000000        5419.0    116.000000   1991.000000   1991.000000   \n",
       "75%      184.000000        5419.0    125.000000   2004.000000   2004.000000   \n",
       "max      351.000000        5419.0    489.000000   2016.000000   2016.000000   \n",
       "\n",
       "                Value  \n",
       "count    56717.000000  \n",
       "mean     62094.660084  \n",
       "std      67835.932856  \n",
       "min          0.000000  \n",
       "25%      15680.000000  \n",
       "50%      36744.000000  \n",
       "75%      86213.000000  \n",
       "max    1000000.000000  "
      ]
     },
     "execution_count": 11,
     "metadata": {},
     "output_type": "execute_result"
    }
   ],
   "source": [
    "yield_df.describe()"
   ]
  },
  {
   "cell_type": "code",
   "execution_count": 12,
   "metadata": {},
   "outputs": [
    {
     "data": {
      "text/plain": [
       "Domain Code     0\n",
       "Domain          0\n",
       "Area Code       0\n",
       "Area            0\n",
       "Element Code    0\n",
       "Element         0\n",
       "Item Code       0\n",
       "Item            0\n",
       "Year Code       0\n",
       "Year            0\n",
       "Unit            0\n",
       "Value           0\n",
       "dtype: int64"
      ]
     },
     "execution_count": 12,
     "metadata": {},
     "output_type": "execute_result"
    }
   ],
   "source": [
    "yield_df.isnull().sum()"
   ]
  },
  {
   "cell_type": "code",
   "execution_count": 13,
   "metadata": {},
   "outputs": [
    {
     "data": {
      "text/plain": [
       "Domain     0\n",
       "Area       0\n",
       "Element    0\n",
       "Item       0\n",
       "Year       0\n",
       "Unit       0\n",
       "Value      0\n",
       "dtype: int64"
      ]
     },
     "execution_count": 13,
     "metadata": {},
     "output_type": "execute_result"
    }
   ],
   "source": [
    "pest_df.isnull().sum()"
   ]
  },
  {
   "cell_type": "code",
   "execution_count": 14,
   "metadata": {},
   "outputs": [
    {
     "data": {
      "text/plain": [
       "Domain Code     0\n",
       "Domain          0\n",
       "Area Code       0\n",
       "Area            0\n",
       "Element Code    0\n",
       "Element         0\n",
       "Item Code       0\n",
       "Item            0\n",
       "Year Code       0\n",
       "Year            0\n",
       "Unit            0\n",
       "Value           0\n",
       "dtype: int64"
      ]
     },
     "execution_count": 14,
     "metadata": {},
     "output_type": "execute_result"
    }
   ],
   "source": [
    "yield_df.isnull().sum()"
   ]
  },
  {
   "cell_type": "code",
   "execution_count": 19,
   "metadata": {},
   "outputs": [
    {
     "data": {
      "text/plain": [
       " Area                              0\n",
       "Year                               0\n",
       "average_rain_fall_mm_per_year    774\n",
       "dtype: int64"
      ]
     },
     "execution_count": 19,
     "metadata": {},
     "output_type": "execute_result"
    }
   ],
   "source": [
    "rainfall_df.isnull().sum()"
   ]
  },
  {
   "cell_type": "code",
   "execution_count": 20,
   "metadata": {},
   "outputs": [
    {
     "data": {
      "text/plain": [
       "year           0\n",
       "country        0\n",
       "avg_temp    2547\n",
       "dtype: int64"
      ]
     },
     "execution_count": 20,
     "metadata": {},
     "output_type": "execute_result"
    }
   ],
   "source": [
    "temp_df.isnull().sum()"
   ]
  },
  {
   "cell_type": "code",
   "execution_count": null,
   "metadata": {},
   "outputs": [],
   "source": [
    "temp_df"
   ]
  }
 ],
 "metadata": {
  "kernelspec": {
   "display_name": "Python 3 (ipykernel)",
   "language": "python",
   "name": "python3"
  },
  "language_info": {
   "codemirror_mode": {
    "name": "ipython",
    "version": 3
   },
   "file_extension": ".py",
   "mimetype": "text/x-python",
   "name": "python",
   "nbconvert_exporter": "python",
   "pygments_lexer": "ipython3",
   "version": "3.10.9"
  }
 },
 "nbformat": 4,
 "nbformat_minor": 2
}
